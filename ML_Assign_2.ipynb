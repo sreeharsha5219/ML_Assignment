{
  "nbformat": 4,
  "nbformat_minor": 0,
  "metadata": {
    "colab": {
      "provenance": []
    },
    "kernelspec": {
      "name": "python3",
      "display_name": "Python 3"
    },
    "language_info": {
      "name": "python"
    }
  },
  "cells": [
    {
      "cell_type": "code",
      "source": [
        "import numpy as np\n",
        "from itertools import product\n",
        "import pandas as pd\n",
        "from sklearn import datasets\n",
        "from sklearn.preprocessing import StandardScaler\n",
        "from sklearn.model_selection import train_test_split\n",
        "\n",
        "\n",
        "# Define the NeuralNetwork class\n",
        "class NeuralNetwork:\n",
        "    def __init__(self,data, input_size, hidden_size, output_size, activation='sigmoid', learning_rate=0.1):\n",
        "        # Initialize the neural network architecture\n",
        "        self.input_size = input_size\n",
        "        self.hidden_size = hidden_size\n",
        "        self.output_size = output_size\n",
        "        self.learning_rate = learning_rate\n",
        "        self.data = data\n",
        "\n",
        "        # Initialize weights and biases\n",
        "        self.weights_input_hidden = np.random.rand(input_size, hidden_size)\n",
        "        self.bias_hidden = np.zeros((1, hidden_size))\n",
        "        self.weights_hidden_output = np.random.rand(hidden_size, output_size)\n",
        "        self.bias_output = np.zeros((1, output_size))\n",
        "\n",
        "        # Set the activation function\n",
        "        self.activation = self.sigmoid if activation == 'sigmoid' else \\\n",
        "                          self.tanh if activation == 'tanh' else \\\n",
        "                          self.relu\n",
        "        self.activation_derivative = self.sigmoid_derivative if activation == 'sigmoid' else \\\n",
        "                          self.tanh_derivative if activation == 'tanh' else \\\n",
        "                          self.relu_derivative\n",
        "\n",
        "    def sigmoid(self, x):\n",
        "        return 1 / (1 + np.exp(-x))\n",
        "\n",
        "    def sigmoid_derivative(self, x):\n",
        "        return x * (1 - x)\n",
        "\n",
        "    def tanh(self, x):\n",
        "        return np.tanh(x)\n",
        "\n",
        "    def tanh_derivative(self, x):\n",
        "        return 1 - x**2\n",
        "\n",
        "    def relu(self, x):\n",
        "        return np.maximum(0, x)\n",
        "\n",
        "    def relu_derivative(self, x):\n",
        "        return (x > 0).astype(float)\n",
        "\n",
        "\n",
        "    #As the first step, pre-process and clean your dataset. There should be a\n",
        "    #method that does this.\n",
        "    # Data Preprocessing\n",
        "    def preprocess_and_clean_train(self,data):\n",
        "      #In data we have 1 duplicate record so we are dropping the Records\n",
        "      self.data.drop_duplicates(inplace=True)\n",
        "      #No null values in the data\n",
        "      # data.isnull().sum()\n",
        "      X = self.data.drop(columns=['output'])\n",
        "      y = self.data['output']\n",
        "      # Standardize the features\n",
        "      scaler = StandardScaler()\n",
        "      X = scaler.fit_transform(X)\n",
        "      return X, np.array(y)\n",
        "    def preprocess_and_clean_test(self,X):\n",
        "      # Standardize the features\n",
        "      scaler = StandardScaler()\n",
        "      X = scaler.fit_transform(X)\n",
        "      return X\n",
        "\n",
        "\n",
        "    def split_data(self, X, y, test_size, random_state=None):\n",
        "        # Split the dataset into training and testing sets\n",
        "        X_train, X_test, y_train, y_test = train_test_split(X, y, test_size=test_size, random_state=random_state)\n",
        "        return X_train, X_test, y_train, y_test\n",
        "\n",
        "    # #Code a neural net having at least one hidden layer. You are free to\n",
        "    # select the number of neurons in each layer. Each neuron in the hidden\n",
        "    # and output layers should have a bias connection.\n",
        "    def forward(self, X):\n",
        "        # Perform forward propagation with the selected activation function\n",
        "        self.hidden_layer_input = np.dot(X, self.weights_input_hidden) + self.bias_hidden\n",
        "        self.hidden_layer_output = self.activation(self.hidden_layer_input)\n",
        "        self.output_layer_input = np.dot(self.hidden_layer_output, self.weights_hidden_output) + self.bias_output\n",
        "        self.output_layer_output = self.activation(self.output_layer_input)\n",
        "        return self.output_layer_output\n",
        "\n",
        "    def backward(self, X, y, output):\n",
        "        # Calculate the loss\n",
        "        error = y - output\n",
        "\n",
        "        # Compute gradients based on the activation function's derivative\n",
        "        delta_output = error * self.activation_derivative(output)\n",
        "        error_hidden = delta_output.dot(self.weights_hidden_output.T)\n",
        "        delta_hidden = error_hidden * self.activation_derivative(self.hidden_layer_output)\n",
        "\n",
        "        # Update weights and biases using SGD\n",
        "        self.weights_hidden_output += self.hidden_layer_output.T.dot(delta_output) * self.learning_rate\n",
        "        self.bias_output += np.sum(delta_output, axis=0, keepdims=True) * self.learning_rate\n",
        "        self.weights_input_hidden += X.T.dot(delta_hidden) * self.learning_rate\n",
        "        self.bias_hidden += np.sum(delta_hidden, axis=0, keepdims=True) * self.learning_rate\n",
        "\n",
        "    def train(self, data,epochs):\n",
        "        X, y = self.preprocess_and_clean_train(data)  # Pre-process and clean the input data\n",
        "        X_train, _, y_train, _ = self.split_data(X, y, test_size=0.2, random_state=42)  # Split the data for training\n",
        "        for _ in range(epochs):\n",
        "            for i in range(len(X_train)):\n",
        "                input_data = X_train[i:i+1]\n",
        "                target = y_train[i:i+1]\n",
        "                output = self.forward(input_data)\n",
        "                self.backward(input_data, target, output)\n",
        "\n",
        "    def test(self, X):\n",
        "        X = self.preprocess_and_clean_test(X)  # Pre-process the input data\n",
        "        return np.round(self.forward(X))\n",
        "\n",
        "    def accuracy(self, X, y):\n",
        "        predictions = self.test(X)\n",
        "        return np.mean(predictions == y)\n",
        "\n",
        "\n",
        "\n",
        "\n",
        "data = pd.read_csv('https://raw.githubusercontent.com/somanathvamshi/Minist_rnn/main/heart.csv')\n",
        "\n",
        "# Create a DataFrame to store the results\n",
        "results = pd.DataFrame(columns=['Parameters', 'Training Accuracy', 'Test Accuracy'])\n",
        "\n",
        "# Create a list of parameter combinations to try\n",
        "param_grid = {\n",
        "    'activation': ['sigmoid', 'tanh', 'relu'],\n",
        "    'learning_rate': [0.01, 0.1, 0.2],\n",
        "    'hidden_size': [4, 8, 16]\n",
        "}\n",
        "\n",
        "# Iterate over all parameter combinations\n",
        "for params in product(*param_grid.values()):\n",
        "    activation, learning_rate, hidden_size = params\n",
        "    nn = NeuralNetwork(data = data,input_size=13, hidden_size=hidden_size, output_size=1, activation=activation, learning_rate=learning_rate)\n",
        "    X, y = nn.preprocess_and_clean_train(data)\n",
        "    #Split the pre-processed dataset into training and testing parts\n",
        "    # Split the dataset into training and testing sets\n",
        "    X_train, X_test, y_train, y_test = train_test_split(X, y, test_size=0.2, random_state=42)\n",
        "\n",
        "    # Train the neural network using SGD\n",
        "    nn.train(data, epochs=10000)\n",
        "\n",
        "    # Calculate training accuracy\n",
        "    training_accuracy = nn.accuracy(X_train, y_train)\n",
        "\n",
        "    # Calculate test accuracy\n",
        "    test_accuracy = nn.accuracy(X_test, y_test)\n",
        "\n",
        "    # Store the results in the DataFrame\n",
        "    results = results.append({'Parameters': params, 'Training Accuracy': training_accuracy, 'Test Accuracy': test_accuracy}, ignore_index=True)\n",
        "\n",
        "# Display the results in a tabular format\n",
        "results_df = pd.DataFrame.from_dict(results)\n",
        "results_df"
      ],
      "metadata": {
        "colab": {
          "base_uri": "https://localhost:8080/",
          "height": 1000
        },
        "id": "u6DSPrfK9Bp_",
        "outputId": "19c4dbfa-5446-43dd-b7b1-f78611a79d6c"
      },
      "execution_count": null,
      "outputs": [
        {
          "output_type": "stream",
          "name": "stdout",
          "text": [
            "aa\n",
            "bb\n",
            "cc\n",
            "cc\n",
            "aa\n",
            "bb\n"
          ]
        },
        {
          "output_type": "stream",
          "name": "stderr",
          "text": [
            "<ipython-input-52-55159efd9f18>:160: FutureWarning: The frame.append method is deprecated and will be removed from pandas in a future version. Use pandas.concat instead.\n",
            "  results = results.append({'Parameters': params, 'Training Accuracy': training_accuracy, 'Test Accuracy': test_accuracy}, ignore_index=True)\n"
          ]
        },
        {
          "output_type": "stream",
          "name": "stdout",
          "text": [
            "cc\n",
            "cc\n",
            "aa\n",
            "bb\n"
          ]
        },
        {
          "output_type": "stream",
          "name": "stderr",
          "text": [
            "<ipython-input-52-55159efd9f18>:160: FutureWarning: The frame.append method is deprecated and will be removed from pandas in a future version. Use pandas.concat instead.\n",
            "  results = results.append({'Parameters': params, 'Training Accuracy': training_accuracy, 'Test Accuracy': test_accuracy}, ignore_index=True)\n"
          ]
        },
        {
          "output_type": "stream",
          "name": "stdout",
          "text": [
            "cc\n",
            "cc\n",
            "aa\n",
            "bb\n"
          ]
        },
        {
          "output_type": "stream",
          "name": "stderr",
          "text": [
            "<ipython-input-52-55159efd9f18>:160: FutureWarning: The frame.append method is deprecated and will be removed from pandas in a future version. Use pandas.concat instead.\n",
            "  results = results.append({'Parameters': params, 'Training Accuracy': training_accuracy, 'Test Accuracy': test_accuracy}, ignore_index=True)\n"
          ]
        },
        {
          "output_type": "stream",
          "name": "stdout",
          "text": [
            "cc\n",
            "cc\n",
            "aa\n",
            "bb\n"
          ]
        },
        {
          "output_type": "stream",
          "name": "stderr",
          "text": [
            "<ipython-input-52-55159efd9f18>:160: FutureWarning: The frame.append method is deprecated and will be removed from pandas in a future version. Use pandas.concat instead.\n",
            "  results = results.append({'Parameters': params, 'Training Accuracy': training_accuracy, 'Test Accuracy': test_accuracy}, ignore_index=True)\n"
          ]
        },
        {
          "output_type": "stream",
          "name": "stdout",
          "text": [
            "cc\n",
            "cc\n",
            "aa\n",
            "bb\n"
          ]
        },
        {
          "output_type": "stream",
          "name": "stderr",
          "text": [
            "<ipython-input-52-55159efd9f18>:160: FutureWarning: The frame.append method is deprecated and will be removed from pandas in a future version. Use pandas.concat instead.\n",
            "  results = results.append({'Parameters': params, 'Training Accuracy': training_accuracy, 'Test Accuracy': test_accuracy}, ignore_index=True)\n"
          ]
        },
        {
          "output_type": "stream",
          "name": "stdout",
          "text": [
            "cc\n",
            "cc\n",
            "aa\n",
            "bb\n"
          ]
        },
        {
          "output_type": "stream",
          "name": "stderr",
          "text": [
            "<ipython-input-52-55159efd9f18>:160: FutureWarning: The frame.append method is deprecated and will be removed from pandas in a future version. Use pandas.concat instead.\n",
            "  results = results.append({'Parameters': params, 'Training Accuracy': training_accuracy, 'Test Accuracy': test_accuracy}, ignore_index=True)\n"
          ]
        },
        {
          "output_type": "stream",
          "name": "stdout",
          "text": [
            "cc\n",
            "cc\n",
            "aa\n",
            "bb\n"
          ]
        },
        {
          "output_type": "stream",
          "name": "stderr",
          "text": [
            "<ipython-input-52-55159efd9f18>:160: FutureWarning: The frame.append method is deprecated and will be removed from pandas in a future version. Use pandas.concat instead.\n",
            "  results = results.append({'Parameters': params, 'Training Accuracy': training_accuracy, 'Test Accuracy': test_accuracy}, ignore_index=True)\n"
          ]
        },
        {
          "output_type": "stream",
          "name": "stdout",
          "text": [
            "cc\n",
            "cc\n",
            "aa\n",
            "bb\n"
          ]
        },
        {
          "output_type": "stream",
          "name": "stderr",
          "text": [
            "<ipython-input-52-55159efd9f18>:160: FutureWarning: The frame.append method is deprecated and will be removed from pandas in a future version. Use pandas.concat instead.\n",
            "  results = results.append({'Parameters': params, 'Training Accuracy': training_accuracy, 'Test Accuracy': test_accuracy}, ignore_index=True)\n"
          ]
        },
        {
          "output_type": "stream",
          "name": "stdout",
          "text": [
            "cc\n",
            "cc\n",
            "aa\n",
            "bb\n"
          ]
        },
        {
          "output_type": "stream",
          "name": "stderr",
          "text": [
            "<ipython-input-52-55159efd9f18>:160: FutureWarning: The frame.append method is deprecated and will be removed from pandas in a future version. Use pandas.concat instead.\n",
            "  results = results.append({'Parameters': params, 'Training Accuracy': training_accuracy, 'Test Accuracy': test_accuracy}, ignore_index=True)\n"
          ]
        },
        {
          "output_type": "stream",
          "name": "stdout",
          "text": [
            "cc\n",
            "cc\n",
            "aa\n",
            "bb\n"
          ]
        },
        {
          "output_type": "stream",
          "name": "stderr",
          "text": [
            "<ipython-input-52-55159efd9f18>:160: FutureWarning: The frame.append method is deprecated and will be removed from pandas in a future version. Use pandas.concat instead.\n",
            "  results = results.append({'Parameters': params, 'Training Accuracy': training_accuracy, 'Test Accuracy': test_accuracy}, ignore_index=True)\n"
          ]
        },
        {
          "output_type": "stream",
          "name": "stdout",
          "text": [
            "cc\n",
            "cc\n",
            "aa\n",
            "bb\n"
          ]
        },
        {
          "output_type": "stream",
          "name": "stderr",
          "text": [
            "<ipython-input-52-55159efd9f18>:160: FutureWarning: The frame.append method is deprecated and will be removed from pandas in a future version. Use pandas.concat instead.\n",
            "  results = results.append({'Parameters': params, 'Training Accuracy': training_accuracy, 'Test Accuracy': test_accuracy}, ignore_index=True)\n"
          ]
        },
        {
          "output_type": "stream",
          "name": "stdout",
          "text": [
            "cc\n",
            "cc\n",
            "aa\n",
            "bb\n"
          ]
        },
        {
          "output_type": "stream",
          "name": "stderr",
          "text": [
            "<ipython-input-52-55159efd9f18>:160: FutureWarning: The frame.append method is deprecated and will be removed from pandas in a future version. Use pandas.concat instead.\n",
            "  results = results.append({'Parameters': params, 'Training Accuracy': training_accuracy, 'Test Accuracy': test_accuracy}, ignore_index=True)\n"
          ]
        },
        {
          "output_type": "stream",
          "name": "stdout",
          "text": [
            "cc\n",
            "cc\n",
            "aa\n",
            "bb\n"
          ]
        },
        {
          "output_type": "stream",
          "name": "stderr",
          "text": [
            "<ipython-input-52-55159efd9f18>:160: FutureWarning: The frame.append method is deprecated and will be removed from pandas in a future version. Use pandas.concat instead.\n",
            "  results = results.append({'Parameters': params, 'Training Accuracy': training_accuracy, 'Test Accuracy': test_accuracy}, ignore_index=True)\n"
          ]
        },
        {
          "output_type": "stream",
          "name": "stdout",
          "text": [
            "cc\n",
            "cc\n",
            "aa\n",
            "bb\n"
          ]
        },
        {
          "output_type": "stream",
          "name": "stderr",
          "text": [
            "<ipython-input-52-55159efd9f18>:160: FutureWarning: The frame.append method is deprecated and will be removed from pandas in a future version. Use pandas.concat instead.\n",
            "  results = results.append({'Parameters': params, 'Training Accuracy': training_accuracy, 'Test Accuracy': test_accuracy}, ignore_index=True)\n"
          ]
        },
        {
          "output_type": "stream",
          "name": "stdout",
          "text": [
            "cc\n",
            "cc\n",
            "aa\n",
            "bb\n"
          ]
        },
        {
          "output_type": "stream",
          "name": "stderr",
          "text": [
            "<ipython-input-52-55159efd9f18>:160: FutureWarning: The frame.append method is deprecated and will be removed from pandas in a future version. Use pandas.concat instead.\n",
            "  results = results.append({'Parameters': params, 'Training Accuracy': training_accuracy, 'Test Accuracy': test_accuracy}, ignore_index=True)\n"
          ]
        },
        {
          "output_type": "stream",
          "name": "stdout",
          "text": [
            "cc\n",
            "cc\n",
            "aa\n",
            "bb\n"
          ]
        },
        {
          "output_type": "stream",
          "name": "stderr",
          "text": [
            "<ipython-input-52-55159efd9f18>:160: FutureWarning: The frame.append method is deprecated and will be removed from pandas in a future version. Use pandas.concat instead.\n",
            "  results = results.append({'Parameters': params, 'Training Accuracy': training_accuracy, 'Test Accuracy': test_accuracy}, ignore_index=True)\n"
          ]
        },
        {
          "output_type": "stream",
          "name": "stdout",
          "text": [
            "cc\n",
            "cc\n",
            "aa\n",
            "bb\n"
          ]
        },
        {
          "output_type": "stream",
          "name": "stderr",
          "text": [
            "<ipython-input-52-55159efd9f18>:160: FutureWarning: The frame.append method is deprecated and will be removed from pandas in a future version. Use pandas.concat instead.\n",
            "  results = results.append({'Parameters': params, 'Training Accuracy': training_accuracy, 'Test Accuracy': test_accuracy}, ignore_index=True)\n"
          ]
        },
        {
          "output_type": "stream",
          "name": "stdout",
          "text": [
            "cc\n",
            "cc\n",
            "aa\n",
            "bb\n"
          ]
        },
        {
          "output_type": "stream",
          "name": "stderr",
          "text": [
            "<ipython-input-52-55159efd9f18>:160: FutureWarning: The frame.append method is deprecated and will be removed from pandas in a future version. Use pandas.concat instead.\n",
            "  results = results.append({'Parameters': params, 'Training Accuracy': training_accuracy, 'Test Accuracy': test_accuracy}, ignore_index=True)\n"
          ]
        },
        {
          "output_type": "stream",
          "name": "stdout",
          "text": [
            "cc\n",
            "cc\n",
            "aa\n",
            "bb\n"
          ]
        },
        {
          "output_type": "stream",
          "name": "stderr",
          "text": [
            "<ipython-input-52-55159efd9f18>:160: FutureWarning: The frame.append method is deprecated and will be removed from pandas in a future version. Use pandas.concat instead.\n",
            "  results = results.append({'Parameters': params, 'Training Accuracy': training_accuracy, 'Test Accuracy': test_accuracy}, ignore_index=True)\n"
          ]
        },
        {
          "output_type": "stream",
          "name": "stdout",
          "text": [
            "cc\n",
            "cc\n",
            "aa\n",
            "bb\n"
          ]
        },
        {
          "output_type": "stream",
          "name": "stderr",
          "text": [
            "<ipython-input-52-55159efd9f18>:160: FutureWarning: The frame.append method is deprecated and will be removed from pandas in a future version. Use pandas.concat instead.\n",
            "  results = results.append({'Parameters': params, 'Training Accuracy': training_accuracy, 'Test Accuracy': test_accuracy}, ignore_index=True)\n"
          ]
        },
        {
          "output_type": "stream",
          "name": "stdout",
          "text": [
            "cc\n",
            "cc\n",
            "aa\n",
            "bb\n"
          ]
        },
        {
          "output_type": "stream",
          "name": "stderr",
          "text": [
            "<ipython-input-52-55159efd9f18>:160: FutureWarning: The frame.append method is deprecated and will be removed from pandas in a future version. Use pandas.concat instead.\n",
            "  results = results.append({'Parameters': params, 'Training Accuracy': training_accuracy, 'Test Accuracy': test_accuracy}, ignore_index=True)\n"
          ]
        },
        {
          "output_type": "stream",
          "name": "stdout",
          "text": [
            "cc\n",
            "cc\n",
            "aa\n",
            "bb\n"
          ]
        },
        {
          "output_type": "stream",
          "name": "stderr",
          "text": [
            "<ipython-input-52-55159efd9f18>:160: FutureWarning: The frame.append method is deprecated and will be removed from pandas in a future version. Use pandas.concat instead.\n",
            "  results = results.append({'Parameters': params, 'Training Accuracy': training_accuracy, 'Test Accuracy': test_accuracy}, ignore_index=True)\n"
          ]
        },
        {
          "output_type": "stream",
          "name": "stdout",
          "text": [
            "cc\n",
            "cc\n",
            "aa\n",
            "bb\n"
          ]
        },
        {
          "output_type": "stream",
          "name": "stderr",
          "text": [
            "<ipython-input-52-55159efd9f18>:160: FutureWarning: The frame.append method is deprecated and will be removed from pandas in a future version. Use pandas.concat instead.\n",
            "  results = results.append({'Parameters': params, 'Training Accuracy': training_accuracy, 'Test Accuracy': test_accuracy}, ignore_index=True)\n"
          ]
        },
        {
          "output_type": "stream",
          "name": "stdout",
          "text": [
            "cc\n",
            "cc\n",
            "aa\n",
            "bb\n"
          ]
        },
        {
          "output_type": "stream",
          "name": "stderr",
          "text": [
            "<ipython-input-52-55159efd9f18>:160: FutureWarning: The frame.append method is deprecated and will be removed from pandas in a future version. Use pandas.concat instead.\n",
            "  results = results.append({'Parameters': params, 'Training Accuracy': training_accuracy, 'Test Accuracy': test_accuracy}, ignore_index=True)\n"
          ]
        },
        {
          "output_type": "stream",
          "name": "stdout",
          "text": [
            "cc\n",
            "cc\n",
            "aa\n",
            "bb\n"
          ]
        },
        {
          "output_type": "stream",
          "name": "stderr",
          "text": [
            "<ipython-input-52-55159efd9f18>:160: FutureWarning: The frame.append method is deprecated and will be removed from pandas in a future version. Use pandas.concat instead.\n",
            "  results = results.append({'Parameters': params, 'Training Accuracy': training_accuracy, 'Test Accuracy': test_accuracy}, ignore_index=True)\n"
          ]
        },
        {
          "output_type": "stream",
          "name": "stdout",
          "text": [
            "cc\n",
            "cc\n",
            "aa\n",
            "bb\n"
          ]
        },
        {
          "output_type": "stream",
          "name": "stderr",
          "text": [
            "<ipython-input-52-55159efd9f18>:160: FutureWarning: The frame.append method is deprecated and will be removed from pandas in a future version. Use pandas.concat instead.\n",
            "  results = results.append({'Parameters': params, 'Training Accuracy': training_accuracy, 'Test Accuracy': test_accuracy}, ignore_index=True)\n"
          ]
        },
        {
          "output_type": "stream",
          "name": "stdout",
          "text": [
            "cc\n",
            "cc\n"
          ]
        },
        {
          "output_type": "stream",
          "name": "stderr",
          "text": [
            "<ipython-input-52-55159efd9f18>:160: FutureWarning: The frame.append method is deprecated and will be removed from pandas in a future version. Use pandas.concat instead.\n",
            "  results = results.append({'Parameters': params, 'Training Accuracy': training_accuracy, 'Test Accuracy': test_accuracy}, ignore_index=True)\n"
          ]
        },
        {
          "output_type": "execute_result",
          "data": {
            "text/plain": [
              "             Parameters  Training Accuracy  Test Accuracy\n",
              "0    (sigmoid, 0.01, 4)           0.503366       0.497984\n",
              "1    (sigmoid, 0.01, 8)           0.504554       0.501209\n",
              "2   (sigmoid, 0.01, 16)           0.504158       0.500403\n",
              "3     (sigmoid, 0.1, 4)           0.502970       0.501209\n",
              "4     (sigmoid, 0.1, 8)           0.504158       0.497984\n",
              "5    (sigmoid, 0.1, 16)           0.504950       0.503628\n",
              "6     (sigmoid, 0.2, 4)           0.501782       0.497984\n",
              "7     (sigmoid, 0.2, 8)           0.504950       0.500403\n",
              "8    (sigmoid, 0.2, 16)           0.504158       0.500403\n",
              "9       (tanh, 0.01, 4)           0.505656       0.477829\n",
              "10      (tanh, 0.01, 8)           0.483721       0.407149\n",
              "11     (tanh, 0.01, 16)           0.502677       0.398549\n",
              "12       (tanh, 0.1, 4)           0.500904       0.495028\n",
              "13       (tanh, 0.1, 8)           0.497151       0.421930\n",
              "14      (tanh, 0.1, 16)           0.503073       0.486697\n",
              "15       (tanh, 0.2, 4)           0.506138       0.498253\n",
              "16       (tanh, 0.2, 8)           0.489644       0.484278\n",
              "17      (tanh, 0.2, 16)           0.485305       0.439936\n",
              "18      (relu, 0.01, 4)           0.499802       0.481591\n",
              "19      (relu, 0.01, 8)           0.452282       0.475410\n",
              "20     (relu, 0.01, 16)           0.452282       0.475410\n",
              "21       (relu, 0.1, 4)           0.452282       0.475410\n",
              "22       (relu, 0.1, 8)           0.452282       0.475410\n",
              "23      (relu, 0.1, 16)           0.452282       0.475410\n",
              "24       (relu, 0.2, 4)           0.452282       0.475410\n",
              "25       (relu, 0.2, 8)           0.452282       0.475410\n",
              "26      (relu, 0.2, 16)           0.452282       0.475410"
            ],
            "text/html": [
              "\n",
              "  <div id=\"df-ca982bd2-a09e-4bfa-b2c1-d632e7cb5dd9\" class=\"colab-df-container\">\n",
              "    <div>\n",
              "<style scoped>\n",
              "    .dataframe tbody tr th:only-of-type {\n",
              "        vertical-align: middle;\n",
              "    }\n",
              "\n",
              "    .dataframe tbody tr th {\n",
              "        vertical-align: top;\n",
              "    }\n",
              "\n",
              "    .dataframe thead th {\n",
              "        text-align: right;\n",
              "    }\n",
              "</style>\n",
              "<table border=\"1\" class=\"dataframe\">\n",
              "  <thead>\n",
              "    <tr style=\"text-align: right;\">\n",
              "      <th></th>\n",
              "      <th>Parameters</th>\n",
              "      <th>Training Accuracy</th>\n",
              "      <th>Test Accuracy</th>\n",
              "    </tr>\n",
              "  </thead>\n",
              "  <tbody>\n",
              "    <tr>\n",
              "      <th>0</th>\n",
              "      <td>(sigmoid, 0.01, 4)</td>\n",
              "      <td>0.503366</td>\n",
              "      <td>0.497984</td>\n",
              "    </tr>\n",
              "    <tr>\n",
              "      <th>1</th>\n",
              "      <td>(sigmoid, 0.01, 8)</td>\n",
              "      <td>0.504554</td>\n",
              "      <td>0.501209</td>\n",
              "    </tr>\n",
              "    <tr>\n",
              "      <th>2</th>\n",
              "      <td>(sigmoid, 0.01, 16)</td>\n",
              "      <td>0.504158</td>\n",
              "      <td>0.500403</td>\n",
              "    </tr>\n",
              "    <tr>\n",
              "      <th>3</th>\n",
              "      <td>(sigmoid, 0.1, 4)</td>\n",
              "      <td>0.502970</td>\n",
              "      <td>0.501209</td>\n",
              "    </tr>\n",
              "    <tr>\n",
              "      <th>4</th>\n",
              "      <td>(sigmoid, 0.1, 8)</td>\n",
              "      <td>0.504158</td>\n",
              "      <td>0.497984</td>\n",
              "    </tr>\n",
              "    <tr>\n",
              "      <th>5</th>\n",
              "      <td>(sigmoid, 0.1, 16)</td>\n",
              "      <td>0.504950</td>\n",
              "      <td>0.503628</td>\n",
              "    </tr>\n",
              "    <tr>\n",
              "      <th>6</th>\n",
              "      <td>(sigmoid, 0.2, 4)</td>\n",
              "      <td>0.501782</td>\n",
              "      <td>0.497984</td>\n",
              "    </tr>\n",
              "    <tr>\n",
              "      <th>7</th>\n",
              "      <td>(sigmoid, 0.2, 8)</td>\n",
              "      <td>0.504950</td>\n",
              "      <td>0.500403</td>\n",
              "    </tr>\n",
              "    <tr>\n",
              "      <th>8</th>\n",
              "      <td>(sigmoid, 0.2, 16)</td>\n",
              "      <td>0.504158</td>\n",
              "      <td>0.500403</td>\n",
              "    </tr>\n",
              "    <tr>\n",
              "      <th>9</th>\n",
              "      <td>(tanh, 0.01, 4)</td>\n",
              "      <td>0.505656</td>\n",
              "      <td>0.477829</td>\n",
              "    </tr>\n",
              "    <tr>\n",
              "      <th>10</th>\n",
              "      <td>(tanh, 0.01, 8)</td>\n",
              "      <td>0.483721</td>\n",
              "      <td>0.407149</td>\n",
              "    </tr>\n",
              "    <tr>\n",
              "      <th>11</th>\n",
              "      <td>(tanh, 0.01, 16)</td>\n",
              "      <td>0.502677</td>\n",
              "      <td>0.398549</td>\n",
              "    </tr>\n",
              "    <tr>\n",
              "      <th>12</th>\n",
              "      <td>(tanh, 0.1, 4)</td>\n",
              "      <td>0.500904</td>\n",
              "      <td>0.495028</td>\n",
              "    </tr>\n",
              "    <tr>\n",
              "      <th>13</th>\n",
              "      <td>(tanh, 0.1, 8)</td>\n",
              "      <td>0.497151</td>\n",
              "      <td>0.421930</td>\n",
              "    </tr>\n",
              "    <tr>\n",
              "      <th>14</th>\n",
              "      <td>(tanh, 0.1, 16)</td>\n",
              "      <td>0.503073</td>\n",
              "      <td>0.486697</td>\n",
              "    </tr>\n",
              "    <tr>\n",
              "      <th>15</th>\n",
              "      <td>(tanh, 0.2, 4)</td>\n",
              "      <td>0.506138</td>\n",
              "      <td>0.498253</td>\n",
              "    </tr>\n",
              "    <tr>\n",
              "      <th>16</th>\n",
              "      <td>(tanh, 0.2, 8)</td>\n",
              "      <td>0.489644</td>\n",
              "      <td>0.484278</td>\n",
              "    </tr>\n",
              "    <tr>\n",
              "      <th>17</th>\n",
              "      <td>(tanh, 0.2, 16)</td>\n",
              "      <td>0.485305</td>\n",
              "      <td>0.439936</td>\n",
              "    </tr>\n",
              "    <tr>\n",
              "      <th>18</th>\n",
              "      <td>(relu, 0.01, 4)</td>\n",
              "      <td>0.499802</td>\n",
              "      <td>0.481591</td>\n",
              "    </tr>\n",
              "    <tr>\n",
              "      <th>19</th>\n",
              "      <td>(relu, 0.01, 8)</td>\n",
              "      <td>0.452282</td>\n",
              "      <td>0.475410</td>\n",
              "    </tr>\n",
              "    <tr>\n",
              "      <th>20</th>\n",
              "      <td>(relu, 0.01, 16)</td>\n",
              "      <td>0.452282</td>\n",
              "      <td>0.475410</td>\n",
              "    </tr>\n",
              "    <tr>\n",
              "      <th>21</th>\n",
              "      <td>(relu, 0.1, 4)</td>\n",
              "      <td>0.452282</td>\n",
              "      <td>0.475410</td>\n",
              "    </tr>\n",
              "    <tr>\n",
              "      <th>22</th>\n",
              "      <td>(relu, 0.1, 8)</td>\n",
              "      <td>0.452282</td>\n",
              "      <td>0.475410</td>\n",
              "    </tr>\n",
              "    <tr>\n",
              "      <th>23</th>\n",
              "      <td>(relu, 0.1, 16)</td>\n",
              "      <td>0.452282</td>\n",
              "      <td>0.475410</td>\n",
              "    </tr>\n",
              "    <tr>\n",
              "      <th>24</th>\n",
              "      <td>(relu, 0.2, 4)</td>\n",
              "      <td>0.452282</td>\n",
              "      <td>0.475410</td>\n",
              "    </tr>\n",
              "    <tr>\n",
              "      <th>25</th>\n",
              "      <td>(relu, 0.2, 8)</td>\n",
              "      <td>0.452282</td>\n",
              "      <td>0.475410</td>\n",
              "    </tr>\n",
              "    <tr>\n",
              "      <th>26</th>\n",
              "      <td>(relu, 0.2, 16)</td>\n",
              "      <td>0.452282</td>\n",
              "      <td>0.475410</td>\n",
              "    </tr>\n",
              "  </tbody>\n",
              "</table>\n",
              "</div>\n",
              "    <div class=\"colab-df-buttons\">\n",
              "\n",
              "  <div class=\"colab-df-container\">\n",
              "    <button class=\"colab-df-convert\" onclick=\"convertToInteractive('df-ca982bd2-a09e-4bfa-b2c1-d632e7cb5dd9')\"\n",
              "            title=\"Convert this dataframe to an interactive table.\"\n",
              "            style=\"display:none;\">\n",
              "\n",
              "  <svg xmlns=\"http://www.w3.org/2000/svg\" height=\"24px\" viewBox=\"0 -960 960 960\">\n",
              "    <path d=\"M120-120v-720h720v720H120Zm60-500h600v-160H180v160Zm220 220h160v-160H400v160Zm0 220h160v-160H400v160ZM180-400h160v-160H180v160Zm440 0h160v-160H620v160ZM180-180h160v-160H180v160Zm440 0h160v-160H620v160Z\"/>\n",
              "  </svg>\n",
              "    </button>\n",
              "\n",
              "  <style>\n",
              "    .colab-df-container {\n",
              "      display:flex;\n",
              "      gap: 12px;\n",
              "    }\n",
              "\n",
              "    .colab-df-convert {\n",
              "      background-color: #E8F0FE;\n",
              "      border: none;\n",
              "      border-radius: 50%;\n",
              "      cursor: pointer;\n",
              "      display: none;\n",
              "      fill: #1967D2;\n",
              "      height: 32px;\n",
              "      padding: 0 0 0 0;\n",
              "      width: 32px;\n",
              "    }\n",
              "\n",
              "    .colab-df-convert:hover {\n",
              "      background-color: #E2EBFA;\n",
              "      box-shadow: 0px 1px 2px rgba(60, 64, 67, 0.3), 0px 1px 3px 1px rgba(60, 64, 67, 0.15);\n",
              "      fill: #174EA6;\n",
              "    }\n",
              "\n",
              "    .colab-df-buttons div {\n",
              "      margin-bottom: 4px;\n",
              "    }\n",
              "\n",
              "    [theme=dark] .colab-df-convert {\n",
              "      background-color: #3B4455;\n",
              "      fill: #D2E3FC;\n",
              "    }\n",
              "\n",
              "    [theme=dark] .colab-df-convert:hover {\n",
              "      background-color: #434B5C;\n",
              "      box-shadow: 0px 1px 3px 1px rgba(0, 0, 0, 0.15);\n",
              "      filter: drop-shadow(0px 1px 2px rgba(0, 0, 0, 0.3));\n",
              "      fill: #FFFFFF;\n",
              "    }\n",
              "  </style>\n",
              "\n",
              "    <script>\n",
              "      const buttonEl =\n",
              "        document.querySelector('#df-ca982bd2-a09e-4bfa-b2c1-d632e7cb5dd9 button.colab-df-convert');\n",
              "      buttonEl.style.display =\n",
              "        google.colab.kernel.accessAllowed ? 'block' : 'none';\n",
              "\n",
              "      async function convertToInteractive(key) {\n",
              "        const element = document.querySelector('#df-ca982bd2-a09e-4bfa-b2c1-d632e7cb5dd9');\n",
              "        const dataTable =\n",
              "          await google.colab.kernel.invokeFunction('convertToInteractive',\n",
              "                                                    [key], {});\n",
              "        if (!dataTable) return;\n",
              "\n",
              "        const docLinkHtml = 'Like what you see? Visit the ' +\n",
              "          '<a target=\"_blank\" href=https://colab.research.google.com/notebooks/data_table.ipynb>data table notebook</a>'\n",
              "          + ' to learn more about interactive tables.';\n",
              "        element.innerHTML = '';\n",
              "        dataTable['output_type'] = 'display_data';\n",
              "        await google.colab.output.renderOutput(dataTable, element);\n",
              "        const docLink = document.createElement('div');\n",
              "        docLink.innerHTML = docLinkHtml;\n",
              "        element.appendChild(docLink);\n",
              "      }\n",
              "    </script>\n",
              "  </div>\n",
              "\n",
              "\n",
              "<div id=\"df-ad768c79-4ceb-41c7-a55a-67e8427202e0\">\n",
              "  <button class=\"colab-df-quickchart\" onclick=\"quickchart('df-ad768c79-4ceb-41c7-a55a-67e8427202e0')\"\n",
              "            title=\"Suggest charts.\"\n",
              "            style=\"display:none;\">\n",
              "\n",
              "<svg xmlns=\"http://www.w3.org/2000/svg\" height=\"24px\"viewBox=\"0 0 24 24\"\n",
              "     width=\"24px\">\n",
              "    <g>\n",
              "        <path d=\"M19 3H5c-1.1 0-2 .9-2 2v14c0 1.1.9 2 2 2h14c1.1 0 2-.9 2-2V5c0-1.1-.9-2-2-2zM9 17H7v-7h2v7zm4 0h-2V7h2v10zm4 0h-2v-4h2v4z\"/>\n",
              "    </g>\n",
              "</svg>\n",
              "  </button>\n",
              "\n",
              "<style>\n",
              "  .colab-df-quickchart {\n",
              "      --bg-color: #E8F0FE;\n",
              "      --fill-color: #1967D2;\n",
              "      --hover-bg-color: #E2EBFA;\n",
              "      --hover-fill-color: #174EA6;\n",
              "      --disabled-fill-color: #AAA;\n",
              "      --disabled-bg-color: #DDD;\n",
              "  }\n",
              "\n",
              "  [theme=dark] .colab-df-quickchart {\n",
              "      --bg-color: #3B4455;\n",
              "      --fill-color: #D2E3FC;\n",
              "      --hover-bg-color: #434B5C;\n",
              "      --hover-fill-color: #FFFFFF;\n",
              "      --disabled-bg-color: #3B4455;\n",
              "      --disabled-fill-color: #666;\n",
              "  }\n",
              "\n",
              "  .colab-df-quickchart {\n",
              "    background-color: var(--bg-color);\n",
              "    border: none;\n",
              "    border-radius: 50%;\n",
              "    cursor: pointer;\n",
              "    display: none;\n",
              "    fill: var(--fill-color);\n",
              "    height: 32px;\n",
              "    padding: 0;\n",
              "    width: 32px;\n",
              "  }\n",
              "\n",
              "  .colab-df-quickchart:hover {\n",
              "    background-color: var(--hover-bg-color);\n",
              "    box-shadow: 0 1px 2px rgba(60, 64, 67, 0.3), 0 1px 3px 1px rgba(60, 64, 67, 0.15);\n",
              "    fill: var(--button-hover-fill-color);\n",
              "  }\n",
              "\n",
              "  .colab-df-quickchart-complete:disabled,\n",
              "  .colab-df-quickchart-complete:disabled:hover {\n",
              "    background-color: var(--disabled-bg-color);\n",
              "    fill: var(--disabled-fill-color);\n",
              "    box-shadow: none;\n",
              "  }\n",
              "\n",
              "  .colab-df-spinner {\n",
              "    border: 2px solid var(--fill-color);\n",
              "    border-color: transparent;\n",
              "    border-bottom-color: var(--fill-color);\n",
              "    animation:\n",
              "      spin 1s steps(1) infinite;\n",
              "  }\n",
              "\n",
              "  @keyframes spin {\n",
              "    0% {\n",
              "      border-color: transparent;\n",
              "      border-bottom-color: var(--fill-color);\n",
              "      border-left-color: var(--fill-color);\n",
              "    }\n",
              "    20% {\n",
              "      border-color: transparent;\n",
              "      border-left-color: var(--fill-color);\n",
              "      border-top-color: var(--fill-color);\n",
              "    }\n",
              "    30% {\n",
              "      border-color: transparent;\n",
              "      border-left-color: var(--fill-color);\n",
              "      border-top-color: var(--fill-color);\n",
              "      border-right-color: var(--fill-color);\n",
              "    }\n",
              "    40% {\n",
              "      border-color: transparent;\n",
              "      border-right-color: var(--fill-color);\n",
              "      border-top-color: var(--fill-color);\n",
              "    }\n",
              "    60% {\n",
              "      border-color: transparent;\n",
              "      border-right-color: var(--fill-color);\n",
              "    }\n",
              "    80% {\n",
              "      border-color: transparent;\n",
              "      border-right-color: var(--fill-color);\n",
              "      border-bottom-color: var(--fill-color);\n",
              "    }\n",
              "    90% {\n",
              "      border-color: transparent;\n",
              "      border-bottom-color: var(--fill-color);\n",
              "    }\n",
              "  }\n",
              "</style>\n",
              "\n",
              "  <script>\n",
              "    async function quickchart(key) {\n",
              "      const quickchartButtonEl =\n",
              "        document.querySelector('#' + key + ' button');\n",
              "      quickchartButtonEl.disabled = true;  // To prevent multiple clicks.\n",
              "      quickchartButtonEl.classList.add('colab-df-spinner');\n",
              "      try {\n",
              "        const charts = await google.colab.kernel.invokeFunction(\n",
              "            'suggestCharts', [key], {});\n",
              "      } catch (error) {\n",
              "        console.error('Error during call to suggestCharts:', error);\n",
              "      }\n",
              "      quickchartButtonEl.classList.remove('colab-df-spinner');\n",
              "      quickchartButtonEl.classList.add('colab-df-quickchart-complete');\n",
              "    }\n",
              "    (() => {\n",
              "      let quickchartButtonEl =\n",
              "        document.querySelector('#df-ad768c79-4ceb-41c7-a55a-67e8427202e0 button');\n",
              "      quickchartButtonEl.style.display =\n",
              "        google.colab.kernel.accessAllowed ? 'block' : 'none';\n",
              "    })();\n",
              "  </script>\n",
              "</div>\n",
              "    </div>\n",
              "  </div>\n"
            ]
          },
          "metadata": {},
          "execution_count": 52
        }
      ]
    },
    {
      "cell_type": "code",
      "source": [
        "results_df.to_csv('results.csv')"
      ],
      "metadata": {
        "id": "gLblQvtbk-D4"
      },
      "execution_count": null,
      "outputs": []
    }
  ]
}